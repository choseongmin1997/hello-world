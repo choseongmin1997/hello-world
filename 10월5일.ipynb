{
  "nbformat": 4,
  "nbformat_minor": 0,
  "metadata": {
    "colab": {
      "name": "10월5일.ipynb",
      "provenance": [],
      "authorship_tag": "ABX9TyPIhbUG6dz0nT9eMOx+Tk+a",
      "include_colab_link": true
    },
    "kernelspec": {
      "name": "python3",
      "display_name": "Python 3"
    }
  },
  "cells": [
    {
      "cell_type": "markdown",
      "metadata": {
        "id": "view-in-github",
        "colab_type": "text"
      },
      "source": [
        "<a href=\"https://colab.research.google.com/github/choseongmin1997/hello-world/blob/master/10%EC%9B%945%EC%9D%BC.ipynb\" target=\"_parent\"><img src=\"https://colab.research.google.com/assets/colab-badge.svg\" alt=\"Open In Colab\"/></a>"
      ]
    },
    {
      "cell_type": "markdown",
      "metadata": {
        "id": "2yO5qO24QVcp"
      },
      "source": [
        "# 파일 쓰기 "
      ]
    },
    {
      "cell_type": "code",
      "metadata": {
        "id": "mzKa1MlKKciL"
      },
      "source": [
        "f = open('latin.txt','w')\n",
        "f.writelines('a')\n",
        "f.close()"
      ],
      "execution_count": 2,
      "outputs": []
    },
    {
      "cell_type": "code",
      "metadata": {
        "id": "JUIpgVB5QoDg"
      },
      "source": [
        "f = open('hangul.txt','w',encoding='UTF-8')\n",
        "f.writelines('가')\n",
        "f.close()"
      ],
      "execution_count": 3,
      "outputs": []
    },
    {
      "cell_type": "code",
      "metadata": {
        "id": "2RMhSiyFQ5oU"
      },
      "source": [
        "f = open('99.txt', 'w')\n",
        "for i in range(1,10):\n",
        "   f.writelines('\\t'.join(str(i*j) for j in range(1,10)))\n",
        "   f.writelines('\\n')\n",
        "f.close()"
      ],
      "execution_count": 19,
      "outputs": []
    },
    {
      "cell_type": "code",
      "metadata": {
        "id": "B9i4Gqn6SEzM",
        "outputId": "a69eddf2-1a13-4e8a-f1e7-559e2da10197",
        "colab": {
          "base_uri": "https://localhost:8080/",
          "height": 34
        }
      },
      "source": [
        "f = open('hangul.txt', 'r', encoding='utf-8')\n",
        "text = f.read()\n",
        "f.close\n",
        "print(text)"
      ],
      "execution_count": 8,
      "outputs": [
        {
          "output_type": "stream",
          "text": [
            "가\n"
          ],
          "name": "stdout"
        }
      ]
    },
    {
      "cell_type": "code",
      "metadata": {
        "id": "w2x2tKjdTDNT",
        "outputId": "38ae82a0-3940-451f-db38-71f5a7229e47",
        "colab": {
          "base_uri": "https://localhost:8080/",
          "height": 54
        }
      },
      "source": [
        "f = open('99.txt', 'r')\n",
        "nines = f.readlines()\n",
        "f.close()\n",
        "print(nines)"
      ],
      "execution_count": 10,
      "outputs": [
        {
          "output_type": "stream",
          "text": [
            "['1\\t2\\t3\\t4\\t5\\t6\\t7\\t8\\t9\\n', '2\\t4\\t6\\t8\\t10\\t12\\t14\\t16\\t18\\n', '3\\t6\\t9\\t12\\t15\\t18\\t21\\t24\\t27\\n', '4\\t8\\t12\\t16\\t20\\t24\\t28\\t32\\t36\\n', '5\\t10\\t15\\t20\\t25\\t30\\t35\\t40\\t45\\n', '6\\t12\\t18\\t24\\t30\\t36\\t42\\t48\\t54\\n', '7\\t14\\t21\\t28\\t35\\t42\\t49\\t56\\t63\\n', '8\\t16\\t24\\t32\\t40\\t48\\t56\\t64\\t72\\n', '9\\t18\\t27\\t36\\t45\\t54\\t63\\t72\\t81\\n']\n"
          ],
          "name": "stdout"
        }
      ]
    },
    {
      "cell_type": "code",
      "metadata": {
        "id": "geYoGUBnT8YL",
        "outputId": "51381afe-31cc-498e-9b09-6d04077c6e76",
        "colab": {
          "base_uri": "https://localhost:8080/",
          "height": 175
        }
      },
      "source": [
        "f = open('99.txt','r')\n",
        "for line in f:\n",
        "  print(line, end=\"\")\n",
        "f.close()"
      ],
      "execution_count": 21,
      "outputs": [
        {
          "output_type": "stream",
          "text": [
            "1\t2\t3\t4\t5\t6\t7\t8\t9\n",
            "2\t4\t6\t8\t10\t12\t14\t16\t18\n",
            "3\t6\t9\t12\t15\t18\t21\t24\t27\n",
            "4\t8\t12\t16\t20\t24\t28\t32\t36\n",
            "5\t10\t15\t20\t25\t30\t35\t40\t45\n",
            "6\t12\t18\t24\t30\t36\t42\t48\t54\n",
            "7\t14\t21\t28\t35\t42\t49\t56\t63\n",
            "8\t16\t24\t32\t40\t48\t56\t64\t72\n",
            "9\t18\t27\t36\t45\t54\t63\t72\t81\n"
          ],
          "name": "stdout"
        }
      ]
    },
    {
      "cell_type": "code",
      "metadata": {
        "id": "_sLack1VUch1",
        "outputId": "fe85033f-9a10-46ab-94e5-d3c8d800ecf1",
        "colab": {
          "base_uri": "https://localhost:8080/",
          "height": 34
        }
      },
      "source": [
        "f = open('temp.txt','w')\n",
        "f.write('a')\n",
        "f.close()\n",
        "\n",
        "f = open('temp.txt','r')\n",
        "print(f.read())"
      ],
      "execution_count": 23,
      "outputs": [
        {
          "output_type": "stream",
          "text": [
            "a\n"
          ],
          "name": "stdout"
        }
      ]
    },
    {
      "cell_type": "code",
      "metadata": {
        "id": "fajpXIjHVL5R",
        "outputId": "68082c66-ac0c-4bba-fee4-80b03d724810",
        "colab": {
          "base_uri": "https://localhost:8080/",
          "height": 175
        }
      },
      "source": [
        "nines = [\n",
        "         [1,2,3,4,5,6,7,8,9],\n",
        "         [2,4,6,8,10,12,14,16,18],\n",
        "         [3,6,9,12,15,18,21,24,27]\n",
        "         ]\n",
        "\n",
        "from pprint import pprint\n",
        "f = open('99.txt')\n",
        "nines2 = []\n",
        "for line in f:\n",
        "  nines2.append(line.split())\n",
        "\n",
        "f.close()\n",
        "pprint(nines2)"
      ],
      "execution_count": 51,
      "outputs": [
        {
          "output_type": "stream",
          "text": [
            "[['1', '2', '3', '4', '5', '6', '7', '8', '9'],\n",
            " ['2', '4', '6', '8', '10', '12', '14', '16', '18'],\n",
            " ['3', '6', '9', '12', '15', '18', '21', '24', '27'],\n",
            " ['4', '8', '12', '16', '20', '24', '28', '32', '36'],\n",
            " ['5', '10', '15', '20', '25', '30', '35', '40', '45'],\n",
            " ['6', '12', '18', '24', '30', '36', '42', '48', '54'],\n",
            " ['7', '14', '21', '28', '35', '42', '49', '56', '63'],\n",
            " ['8', '16', '24', '32', '40', '48', '56', '64', '72'],\n",
            " ['9', '18', '27', '36', '45', '54', '63', '72', '81']]\n"
          ],
          "name": "stdout"
        }
      ]
    },
    {
      "cell_type": "code",
      "metadata": {
        "id": "J7G-prsBWRLo",
        "outputId": "581f522b-27a0-43ae-f50e-7e04f0a96e12",
        "colab": {
          "base_uri": "https://localhost:8080/",
          "height": 34
        }
      },
      "source": [
        "#문자열 속의 모든 문자열숫자를 정수로 바꾸어주기 \n",
        "#인덱싱을 활용\n",
        "\n",
        "int(nines2[3][6]) # 4단의 7번쨰의 숫자 "
      ],
      "execution_count": 35,
      "outputs": [
        {
          "output_type": "execute_result",
          "data": {
            "text/plain": [
              "28"
            ]
          },
          "metadata": {
            "tags": []
          },
          "execution_count": 35
        }
      ]
    },
    {
      "cell_type": "code",
      "metadata": {
        "id": "nA6DnAIVW3VT",
        "outputId": "0bb910fe-51fc-47a2-e33a-89d043e15671",
        "colab": {
          "base_uri": "https://localhost:8080/",
          "height": 175
        }
      },
      "source": [
        "for i, line in enumerate(nines2):\n",
        "    for j, n in enumerate(line):\n",
        "        nines2[i][j] = int(n)\n",
        "pprint(nines2)"
      ],
      "execution_count": 52,
      "outputs": [
        {
          "output_type": "stream",
          "text": [
            "[[1, 2, 3, 4, 5, 6, 7, 8, 9],\n",
            " [2, 4, 6, 8, 10, 12, 14, 16, 18],\n",
            " [3, 6, 9, 12, 15, 18, 21, 24, 27],\n",
            " [4, 8, 12, 16, 20, 24, 28, 32, 36],\n",
            " [5, 10, 15, 20, 25, 30, 35, 40, 45],\n",
            " [6, 12, 18, 24, 30, 36, 42, 48, 54],\n",
            " [7, 14, 21, 28, 35, 42, 49, 56, 63],\n",
            " [8, 16, 24, 32, 40, 48, 56, 64, 72],\n",
            " [9, 18, 27, 36, 45, 54, 63, 72, 81]]\n"
          ],
          "name": "stdout"
        }
      ]
    },
    {
      "cell_type": "code",
      "metadata": {
        "id": "klJrdyotXRZ0"
      },
      "source": [
        "import pickle\n",
        "f = open('99list.pkl','wb')\n",
        "pickle.dump(nines2, f)\n",
        "f.close()\n"
      ],
      "execution_count": 57,
      "outputs": []
    },
    {
      "cell_type": "code",
      "metadata": {
        "id": "1bXfeYgkZmb9",
        "outputId": "79afe08d-0afe-41c4-d6b2-ae28ae457155",
        "colab": {
          "base_uri": "https://localhost:8080/",
          "height": 175
        }
      },
      "source": [
        "f = open('99list.pkl','rb')\n",
        "nines_pkl = pickle.load(f)\n",
        "f.close()\n",
        "pprint(nines_pkl)"
      ],
      "execution_count": 58,
      "outputs": [
        {
          "output_type": "stream",
          "text": [
            "[[1, 2, 3, 4, 5, 6, 7, 8, 9],\n",
            " [2, 4, 6, 8, 10, 12, 14, 16, 18],\n",
            " [3, 6, 9, 12, 15, 18, 21, 24, 27],\n",
            " [4, 8, 12, 16, 20, 24, 28, 32, 36],\n",
            " [5, 10, 15, 20, 25, 30, 35, 40, 45],\n",
            " [6, 12, 18, 24, 30, 36, 42, 48, 54],\n",
            " [7, 14, 21, 28, 35, 42, 49, 56, 63],\n",
            " [8, 16, 24, 32, 40, 48, 56, 64, 72],\n",
            " [9, 18, 27, 36, 45, 54, 63, 72, 81]]\n"
          ],
          "name": "stdout"
        }
      ]
    }
  ]
}