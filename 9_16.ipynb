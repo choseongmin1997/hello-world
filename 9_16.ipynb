{
  "nbformat": 4,
  "nbformat_minor": 0,
  "metadata": {
    "colab": {
      "name": "9_16.ipynb",
      "provenance": [],
      "collapsed_sections": [],
      "authorship_tag": "ABX9TyNuyiDS4sfpyzOr87oM4/mY",
      "include_colab_link": true
    },
    "kernelspec": {
      "name": "python3",
      "display_name": "Python 3"
    }
  },
  "cells": [
    {
      "cell_type": "markdown",
      "metadata": {
        "id": "view-in-github",
        "colab_type": "text"
      },
      "source": [
        "<a href=\"https://colab.research.google.com/github/choseongmin1997/hello-world/blob/master/9_16.ipynb\" target=\"_parent\"><img src=\"https://colab.research.google.com/assets/colab-badge.svg\" alt=\"Open In Colab\"/></a>"
      ]
    },
    {
      "cell_type": "markdown",
      "metadata": {
        "id": "3x2eDfixWOP8",
        "colab_type": "text"
      },
      "source": [
        "## while 문 9/16"
      ]
    },
    {
      "cell_type": "code",
      "metadata": {
        "id": "LCyO3ONnWMU5",
        "colab_type": "code",
        "colab": {}
      },
      "source": [
        ""
      ],
      "execution_count": null,
      "outputs": []
    },
    {
      "cell_type": "code",
      "metadata": {
        "id": "kRlTRC7SVv0Q",
        "colab_type": "code",
        "colab": {
          "base_uri": "https://localhost:8080/",
          "height": 34
        },
        "outputId": "9935d055-6065-4ace-beb3-86b1922f7d9b"
      },
      "source": [
        "if 2 < 3:\n",
        "  print(\"집에 가고 싶어\")"
      ],
      "execution_count": null,
      "outputs": [
        {
          "output_type": "stream",
          "text": [
            "집에 가고 싶어\n"
          ],
          "name": "stdout"
        }
      ]
    },
    {
      "cell_type": "code",
      "metadata": {
        "id": "RZrISgI7V5Pz",
        "colab_type": "code",
        "colab": {}
      },
      "source": [
        "while 2 < 3:\n",
        "  print(\"d\")"
      ],
      "execution_count": null,
      "outputs": []
    },
    {
      "cell_type": "markdown",
      "metadata": {
        "id": "Ruxw5H0DWDtu",
        "colab_type": "text"
      },
      "source": [
        "while 은 정지 조건을 넣어줘야 한다. \n",
        "\n",
        "- if 문과 결합\n",
        "\n",
        "- break 로 정지"
      ]
    },
    {
      "cell_type": "code",
      "metadata": {
        "id": "vP1_4VRwWLEo",
        "colab_type": "code",
        "colab": {
          "base_uri": "https://localhost:8080/",
          "height": 34
        },
        "outputId": "8bb6edd3-698a-477c-93c3-16f4a8e9a4f7"
      },
      "source": [
        "while True:\n",
        "  n = input('2 + 3 =')\n",
        "  if n == '5':\n",
        "    break \n",
        "  else: \n",
        "    print(\"정답을 입력하세요.\")"
      ],
      "execution_count": null,
      "outputs": [
        {
          "output_type": "stream",
          "text": [
            "2 + 3 =5\n"
          ],
          "name": "stdout"
        }
      ]
    },
    {
      "cell_type": "code",
      "metadata": {
        "id": "-hqmnQdlWwoJ",
        "colab_type": "code",
        "colab": {
          "base_uri": "https://localhost:8080/",
          "height": 70
        },
        "outputId": "2307a65a-b80e-49a8-c3b5-44258ce437f7"
      },
      "source": [
        "print('알람시계가 울린다')\n",
        "while True:\n",
        "   n = input('일어날 준비 완료? (Y/N)')\n",
        "   if  n == \"N\"\n",
        "    print('Snooze 버튼을 누른다.')\n",
        "    print('좀 더 잔다.')\n",
        "   else:\n",
        "    break\n",
        "print('샤워하고 옷 입는다.') \n"
      ],
      "execution_count": null,
      "outputs": [
        {
          "output_type": "stream",
          "text": [
            "알람시계가 울린다\n",
            "일어날 준비 완료? (Y/N)N\n",
            "샤워하고 옷 입는다.\n"
          ],
          "name": "stdout"
        }
      ]
    },
    {
      "cell_type": "code",
      "metadata": {
        "id": "OXGhrgtEYWP3",
        "colab_type": "code",
        "colab": {
          "base_uri": "https://localhost:8080/",
          "height": 34
        },
        "outputId": "87977926-ddcb-4c71-b58f-db362d61fd1d"
      },
      "source": [
        "S, i = 0, 0\n",
        "while S < 100:\n",
        "  i = i + 1\n",
        "  S = S + i \n",
        "\n",
        "S, i\n"
      ],
      "execution_count": null,
      "outputs": [
        {
          "output_type": "execute_result",
          "data": {
            "text/plain": [
              "(105, 14)"
            ]
          },
          "metadata": {
            "tags": []
          },
          "execution_count": 19
        }
      ]
    },
    {
      "cell_type": "code",
      "metadata": {
        "id": "uA08WNsxY0nu",
        "colab_type": "code",
        "colab": {
          "base_uri": "https://localhost:8080/",
          "height": 34
        },
        "outputId": "5a7e0057-d0d2-42df-9e6d-dabf6dc0d3bc"
      },
      "source": [
        "S, i = 0,0\n",
        "while S < 100:\n",
        "  S = S + i\n",
        "  i = i + 1\n",
        "\n",
        "S, i \n"
      ],
      "execution_count": null,
      "outputs": [
        {
          "output_type": "execute_result",
          "data": {
            "text/plain": [
              "(105, 15)"
            ]
          },
          "metadata": {
            "tags": []
          },
          "execution_count": 22
        }
      ]
    },
    {
      "cell_type": "markdown",
      "metadata": {
        "id": "vQTHoq-wYxBl",
        "colab_type": "text"
      },
      "source": [
        "초기화의 중요성 \n",
        "\n",
        "순서의 중요성 \n",
        "\n"
      ]
    },
    {
      "cell_type": "code",
      "metadata": {
        "id": "Vnq9_Df7ZUWQ",
        "colab_type": "code",
        "colab": {
          "base_uri": "https://localhost:8080/",
          "height": 34
        },
        "outputId": "9621cb33-57bb-43c8-f8de-41960bf49dc1"
      },
      "source": [
        "# i에 대한 조건\n",
        "\n",
        "s, i = 0,0 \n",
        "while i < 10:\n",
        "  i = i + 1\n",
        "  s = s + i\n",
        "s, i\n"
      ],
      "execution_count": null,
      "outputs": [
        {
          "output_type": "execute_result",
          "data": {
            "text/plain": [
              "(55, 10)"
            ]
          },
          "metadata": {
            "tags": []
          },
          "execution_count": 27
        }
      ]
    },
    {
      "cell_type": "code",
      "metadata": {
        "id": "llEJujPDaHQ1",
        "colab_type": "code",
        "colab": {
          "base_uri": "https://localhost:8080/",
          "height": 34
        },
        "outputId": "28af4164-1504-4741-f538-06c6061c555b"
      },
      "source": [
        "s = 0\n",
        "for i in range(1,11): #11 직전, 즉 10까지 가면 끝남 \n",
        "  s = s + i \n",
        "\n",
        "s, i\n"
      ],
      "execution_count": null,
      "outputs": [
        {
          "output_type": "execute_result",
          "data": {
            "text/plain": [
              "(55, 10)"
            ]
          },
          "metadata": {
            "tags": []
          },
          "execution_count": 28
        }
      ]
    },
    {
      "cell_type": "code",
      "metadata": {
        "id": "nNc7ytTJaW0h",
        "colab_type": "code",
        "colab": {
          "base_uri": "https://localhost:8080/",
          "height": 34
        },
        "outputId": "be3e3239-fd04-4fe4-cb2e-fc93ade4f1b6"
      },
      "source": [
        "s = 0 \n",
        "for i in range(1,100):\n",
        "  s = s + i \n",
        "  if s >=100:\n",
        "    break\n",
        "  else:\n",
        "    pass\n",
        "\n",
        "s, i"
      ],
      "execution_count": null,
      "outputs": [
        {
          "output_type": "execute_result",
          "data": {
            "text/plain": [
              "(105, 14)"
            ]
          },
          "metadata": {
            "tags": []
          },
          "execution_count": 30
        }
      ]
    },
    {
      "cell_type": "code",
      "metadata": {
        "id": "V_Z3jL1taTBC",
        "colab_type": "code",
        "colab": {
          "base_uri": "https://localhost:8080/",
          "height": 34
        },
        "outputId": "14d39118-c265-4036-b014-f215cd9654f0"
      },
      "source": [
        "s = 0 \n",
        "i = 0\n",
        "while i < 10:\n",
        " i = i + 1\n",
        " s = s + i\n",
        "\n",
        "s, i"
      ],
      "execution_count": null,
      "outputs": [
        {
          "output_type": "execute_result",
          "data": {
            "text/plain": [
              "(55, 10)"
            ]
          },
          "metadata": {
            "tags": []
          },
          "execution_count": 42
        }
      ]
    },
    {
      "cell_type": "code",
      "metadata": {
        "id": "K89G69POcdby",
        "colab_type": "code",
        "colab": {
          "base_uri": "https://localhost:8080/",
          "height": 34
        },
        "outputId": "bd0a2ec5-cde5-46aa-c22c-8f2ec0225c72"
      },
      "source": [
        "s, i = 0,1 \n",
        "for i in range(1,11):\n",
        "  s = s + i\n",
        "\n",
        "\n",
        "s, i "
      ],
      "execution_count": null,
      "outputs": [
        {
          "output_type": "execute_result",
          "data": {
            "text/plain": [
              "(55, 10)"
            ]
          },
          "metadata": {
            "tags": []
          },
          "execution_count": 39
        }
      ]
    },
    {
      "cell_type": "code",
      "metadata": {
        "id": "YVoAq1BMcrFb",
        "colab_type": "code",
        "colab": {
          "base_uri": "https://localhost:8080/",
          "height": 122
        },
        "outputId": "815b835e-af10-46b1-8607-de555585c422"
      },
      "source": [
        "basket = ['bacon', 'egg', 'ham']\n",
        "for item in basket:\n",
        "  print(item.upper()) \n",
        "\n",
        "word = 'egg'\n",
        "for charactor in word:\n",
        "  print(10 *charactor)"
      ],
      "execution_count": null,
      "outputs": [
        {
          "output_type": "stream",
          "text": [
            "BACON\n",
            "EGG\n",
            "HAM\n",
            "eeeeeeeeee\n",
            "gggggggggg\n",
            "gggggggggg\n"
          ],
          "name": "stdout"
        }
      ]
    },
    {
      "cell_type": "markdown",
      "metadata": {
        "id": "l4a8TdZPdgOX",
        "colab_type": "text"
      },
      "source": [
        ".upper(): 대문자로 바꾸어주는 문자열 함수\n",
        "str.upper()\n"
      ]
    },
    {
      "cell_type": "code",
      "metadata": {
        "id": "L0YOAjJldZeJ",
        "colab_type": "code",
        "colab": {}
      },
      "source": [
        "word = 'abcdefghijklmnop'\n",
        "for i, char in enumerate(word):\n",
        "  print(i, char)"
      ],
      "execution_count": null,
      "outputs": []
    },
    {
      "cell_type": "markdown",
      "metadata": {
        "id": "MPSJH2NDd5xs",
        "colab_type": "text"
      },
      "source": [
        "딕셔너리"
      ]
    },
    {
      "cell_type": "code",
      "metadata": {
        "id": "V2R5CPOvd_lR",
        "colab_type": "code",
        "colab": {
          "base_uri": "https://localhost:8080/",
          "height": 87
        },
        "outputId": "4894d312-bd3d-41f3-f873-b5843dafcb12"
      },
      "source": [
        "hansol = {'hp': 80, 'mp':90, 'class': 'mage', 'age': 20 }\n",
        "for k, v in hansol.items():\n",
        "  print('속성: {}, 값: {}'.format(k,v))"
      ],
      "execution_count": null,
      "outputs": [
        {
          "output_type": "stream",
          "text": [
            "속성: hp, 값: 80\n",
            "속성: mp, 값: 90\n",
            "속성: class, 값: mage\n",
            "속성: age, 값: 20\n"
          ],
          "name": "stdout"
        }
      ]
    },
    {
      "cell_type": "code",
      "metadata": {
        "id": "fHkf4LVAfFaG",
        "colab_type": "code",
        "colab": {
          "base_uri": "https://localhost:8080/",
          "height": 34
        },
        "outputId": "2ce7aa30-5f60-451b-ee15-36efc7fe71ff"
      },
      "source": [
        "list({'one':1, 'two':2})"
      ],
      "execution_count": null,
      "outputs": [
        {
          "output_type": "execute_result",
          "data": {
            "text/plain": [
              "['one', 'two']"
            ]
          },
          "metadata": {
            "tags": []
          },
          "execution_count": 65
        }
      ]
    },
    {
      "cell_type": "code",
      "metadata": {
        "id": "Ug5UzjN3fKoF",
        "colab_type": "code",
        "colab": {
          "base_uri": "https://localhost:8080/",
          "height": 263
        },
        "outputId": "b962d250-df88-49df-96e3-f5305625d1e8"
      },
      "source": [
        "# 반복문 중첩\n",
        "for day in '월화수목금토일':\n",
        "  for period in '전후':\n",
        "    print('{}요일 오{}'.format(day,period))\n",
        "# 월,전 -> 월, 후 -> 화, 전 ... -> 일, 후"
      ],
      "execution_count": null,
      "outputs": [
        {
          "output_type": "stream",
          "text": [
            "월요일 오전\n",
            "월요일 오후\n",
            "화요일 오전\n",
            "화요일 오후\n",
            "수요일 오전\n",
            "수요일 오후\n",
            "목요일 오전\n",
            "목요일 오후\n",
            "금요일 오전\n",
            "금요일 오후\n",
            "토요일 오전\n",
            "토요일 오후\n",
            "일요일 오전\n",
            "일요일 오후\n"
          ],
          "name": "stdout"
        }
      ]
    },
    {
      "cell_type": "code",
      "metadata": {
        "id": "xlyF1nM0hLpQ",
        "colab_type": "code",
        "colab": {
          "base_uri": "https://localhost:8080/",
          "height": 175
        },
        "outputId": "a4733d06-1e06-4831-997c-8dacb75059b1"
      },
      "source": [
        "#구구단\n",
        "for i in range(1,10):\n",
        "  for j in range(1,10):\n",
        "    print(i*j,end= ' ') #end 는 한 값이 끝나고 자동 줄바꿈인데 바꿈 \n",
        "  print()\n"
      ],
      "execution_count": null,
      "outputs": [
        {
          "output_type": "stream",
          "text": [
            "1 2 3 4 5 6 7 8 9 \n",
            "2 4 6 8 10 12 14 16 18 \n",
            "3 6 9 12 15 18 21 24 27 \n",
            "4 8 12 16 20 24 28 32 36 \n",
            "5 10 15 20 25 30 35 40 45 \n",
            "6 12 18 24 30 36 42 48 54 \n",
            "7 14 21 28 35 42 49 56 63 \n",
            "8 16 24 32 40 48 56 64 72 \n",
            "9 18 27 36 45 54 63 72 81 \n"
          ],
          "name": "stdout"
        }
      ]
    },
    {
      "cell_type": "code",
      "metadata": {
        "id": "135v5tIViSU6",
        "colab_type": "code",
        "colab": {
          "base_uri": "https://localhost:8080/",
          "height": 34
        },
        "outputId": "990f0b48-206d-44b9-b91c-fed82fcf21bb"
      },
      "source": [
        "#문장부호 제거하기\n",
        "word =''\n",
        "for char in '(배고파,,,..!!!!)':\n",
        "  if char.isalnum():\n",
        "    word = word + char \n",
        "\n",
        "print(word)"
      ],
      "execution_count": null,
      "outputs": [
        {
          "output_type": "stream",
          "text": [
            "배고파\n"
          ],
          "name": "stdout"
        }
      ]
    },
    {
      "cell_type": "code",
      "metadata": {
        "id": "jC1PbXb_h7tM",
        "colab_type": "code",
        "colab": {
          "base_uri": "https://localhost:8080/",
          "height": 52
        },
        "outputId": "4e9442e5-0cac-4f6e-a3b7-bbb7f84a8a21"
      },
      "source": [
        "#영어 명사에 부정관사 붙이기 조건부 연산\n",
        "word = input('type the word:')\n",
        "if word[0] in 'aeiou':\n",
        "  print('an',word)\n",
        "else:\n",
        "  print('a',word)"
      ],
      "execution_count": null,
      "outputs": [
        {
          "output_type": "stream",
          "text": [
            "type the word:egg\n",
            "an egg\n"
          ],
          "name": "stdout"
        }
      ]
    },
    {
      "cell_type": "code",
      "metadata": {
        "id": "1Qjf7MyhjFeB",
        "colab_type": "code",
        "colab": {
          "base_uri": "https://localhost:8080/",
          "height": 52
        },
        "outputId": "fcac2e64-c121-4f28-c490-21e43fd9d371"
      },
      "source": [
        "#영어 명사에 복수형 붙이기\n",
        "word = input()\n",
        "if word[-1] in 's':\n",
        "  print(word,'es')\n",
        "else:\n",
        "  print(word+\"s\")"
      ],
      "execution_count": null,
      "outputs": [
        {
          "output_type": "stream",
          "text": [
            "else\n",
            "elses\n"
          ],
          "name": "stdout"
        }
      ]
    },
    {
      "cell_type": "code",
      "metadata": {
        "id": "KuP_bWWhjIPl",
        "colab_type": "code",
        "colab": {
          "base_uri": "https://localhost:8080/",
          "height": 52
        },
        "outputId": "b36eba7a-5804-4e3c-a73c-cf099a75e3e2"
      },
      "source": [
        "#빈도 계산\n",
        "basket = ['a','b','b', 'c', 'd','d', 'e', 'e', 'e']\n",
        "freq = {}\n",
        "for item in basket:\n",
        "  if item in freq:\n",
        "    freq[item] += 1\n",
        "  else:\n",
        "    freq[item] = 1 \n",
        "\n",
        "print(freq)"
      ],
      "execution_count": null,
      "outputs": [
        {
          "output_type": "stream",
          "text": [
            "{'a': 1, 'b': 2, 'c': 1, 'd': 2, 'e': 3}\n",
            "3\n"
          ],
          "name": "stdout"
        }
      ]
    },
    {
      "cell_type": "code",
      "metadata": {
        "id": "jeC86ceYlGmE",
        "colab_type": "code",
        "colab": {
          "base_uri": "https://localhost:8080/",
          "height": 70
        },
        "outputId": "b5044408-6a3c-4724-cbeb-9edacc12b09c"
      },
      "source": [
        "#단순 반복 추출\n",
        "from random import randrange\n",
        "for iiii in range(3):\n",
        "  print(randrange(1,7))\n"
      ],
      "execution_count": null,
      "outputs": [
        {
          "output_type": "stream",
          "text": [
            "5\n",
            "6\n",
            "4\n"
          ],
          "name": "stdout"
        }
      ]
    },
    {
      "cell_type": "code",
      "metadata": {
        "id": "cphOmrYflZJH",
        "colab_type": "code",
        "colab": {
          "base_uri": "https://localhost:8080/",
          "height": 134
        },
        "outputId": "425b51eb-ccf1-433d-faf6-d7b2eacab7fa"
      },
      "source": [
        "#과제 1\n",
        "today input('오늘의 요일을 입력하세요:')\n",
        "N = input('며칠 후의 요일이 궁금하세요?:')\n",
        "day = .... \n",
        "print('{}일 후는 {}요일 입니다.'.format(N,today))\n",
        "\n"
      ],
      "execution_count": null,
      "outputs": [
        {
          "output_type": "error",
          "ename": "SyntaxError",
          "evalue": "ignored",
          "traceback": [
            "\u001b[0;36m  File \u001b[0;32m\"<ipython-input-104-d6091c1e9581>\"\u001b[0;36m, line \u001b[0;32m2\u001b[0m\n\u001b[0;31m    today input('오늘의 요일을 입력하세요:')\u001b[0m\n\u001b[0m              ^\u001b[0m\n\u001b[0;31mSyntaxError\u001b[0m\u001b[0;31m:\u001b[0m invalid syntax\n"
          ]
        }
      ]
    },
    {
      "cell_type": "code",
      "metadata": {
        "id": "Ch8VUgr9l3qw",
        "colab_type": "code",
        "colab": {
          "base_uri": "https://localhost:8080/",
          "height": 186
        },
        "outputId": "d726d0b4-a1b0-4436-9d01-a157ec1e4e57"
      },
      "source": [
        "#과제 2"
      ],
      "execution_count": null,
      "outputs": [
        {
          "output_type": "error",
          "ename": "AttributeError",
          "evalue": "ignored",
          "traceback": [
            "\u001b[0;31m---------------------------------------------------------------------------\u001b[0m",
            "\u001b[0;31mAttributeError\u001b[0m                            Traceback (most recent call last)",
            "\u001b[0;32m<ipython-input-106-6a7bb18a4d70>\u001b[0m in \u001b[0;36m<module>\u001b[0;34m()\u001b[0m\n\u001b[1;32m      1\u001b[0m \u001b[0;31m#과제 2\u001b[0m\u001b[0;34m\u001b[0m\u001b[0;34m\u001b[0m\u001b[0;34m\u001b[0m\u001b[0m\n\u001b[0;32m----> 2\u001b[0;31m \u001b[0mstr\u001b[0m\u001b[0;34m.\u001b[0m\u001b[0mdir\u001b[0m\u001b[0;34m(\u001b[0m\u001b[0;34m\"rrr\"\u001b[0m\u001b[0;34m)\u001b[0m\u001b[0;34m\u001b[0m\u001b[0;34m\u001b[0m\u001b[0m\n\u001b[0m",
            "\u001b[0;31mAttributeError\u001b[0m: type object 'str' has no attribute 'dir'"
          ]
        }
      ]
    }
  ]
}