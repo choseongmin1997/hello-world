{
  "nbformat": 4,
  "nbformat_minor": 0,
  "metadata": {
    "colab": {
      "name": "9월 9일",
      "provenance": [],
      "authorship_tag": "ABX9TyMK5pw6sy+OO2Jhbp8vP55o",
      "include_colab_link": true
    },
    "kernelspec": {
      "name": "python3",
      "display_name": "Python 3"
    }
  },
  "cells": [
    {
      "cell_type": "markdown",
      "metadata": {
        "id": "view-in-github",
        "colab_type": "text"
      },
      "source": [
        "<a href=\"https://colab.research.google.com/github/choseongmin1997/hello-world/blob/master/9%EC%9B%94_9%EC%9D%BC.ipynb\" target=\"_parent\"><img src=\"https://colab.research.google.com/assets/colab-badge.svg\" alt=\"Open In Colab\"/></a>"
      ]
    },
    {
      "cell_type": "code",
      "metadata": {
        "id": "UfXTFUtMSHKi",
        "colab_type": "code",
        "colab": {
          "base_uri": "https://localhost:8080/",
          "height": 34
        },
        "outputId": "52995e10-0e9b-4996-f94e-c036244c2797"
      },
      "source": [
        "zero_int = 0\n",
        "zero_float = 0.0 \n",
        "zero_int == zero_float"
      ],
      "execution_count": null,
      "outputs": [
        {
          "output_type": "execute_result",
          "data": {
            "text/plain": [
              "True"
            ]
          },
          "metadata": {
            "tags": []
          },
          "execution_count": 3
        }
      ]
    },
    {
      "cell_type": "markdown",
      "metadata": {
        "id": "-Kx_JS0iTB0L",
        "colab_type": "text"
      },
      "source": [
        "동등성 비교연산자 : == \n",
        "\n",
        "동일성 비교연산자 : is\n"
      ]
    },
    {
      "cell_type": "code",
      "metadata": {
        "id": "tzxactVWTNg0",
        "colab_type": "code",
        "colab": {
          "base_uri": "https://localhost:8080/",
          "height": 34
        },
        "outputId": "b26bb51e-c942-42a6-b341-acb1a4b9dd6f"
      },
      "source": [
        "a = \"ㄹ\"\n",
        "b = \"ㄹ\"\n",
        "a is b"
      ],
      "execution_count": null,
      "outputs": [
        {
          "output_type": "execute_result",
          "data": {
            "text/plain": [
              "False"
            ]
          },
          "metadata": {
            "tags": []
          },
          "execution_count": 4
        }
      ]
    },
    {
      "cell_type": "markdown",
      "metadata": {
        "id": "8lcn_AmVTS_V",
        "colab_type": "text"
      },
      "source": [
        "len() : 문자열의 길이\n",
        "\n",
        "str.find() : 문자열 내 글자의 위치 \n",
        "\n",
        "\n",
        "```\n",
        "'python'.find(\"p\")\n",
        "```\n",
        "\n",
        "str.count() : 문자열 내 글자의 출현 회수\n",
        "\n",
        "in 연산자: 소속 여부 T or F "
      ]
    },
    {
      "cell_type": "code",
      "metadata": {
        "id": "R4GogESSTqcy",
        "colab_type": "code",
        "colab": {
          "base_uri": "https://localhost:8080/",
          "height": 34
        },
        "outputId": "5abf0a7d-ec01-4f79-ba23-a8415169c2ca"
      },
      "source": [
        "'python'.find(\"p\")\n",
        "\n",
        "'python'.count('p')\n",
        "\n",
        "'p' in 'python' "
      ],
      "execution_count": null,
      "outputs": [
        {
          "output_type": "execute_result",
          "data": {
            "text/plain": [
              "True"
            ]
          },
          "metadata": {
            "tags": []
          },
          "execution_count": 8
        }
      ]
    }
  ]
}