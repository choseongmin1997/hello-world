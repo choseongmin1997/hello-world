{
  "nbformat": 4,
  "nbformat_minor": 0,
  "metadata": {
    "colab": {
      "name": "언컴 10/14",
      "provenance": [],
      "collapsed_sections": [],
      "authorship_tag": "ABX9TyOwh0DBfagtHLbLXhj4h30u",
      "include_colab_link": true
    },
    "kernelspec": {
      "name": "python3",
      "display_name": "Python 3"
    }
  },
  "cells": [
    {
      "cell_type": "markdown",
      "metadata": {
        "id": "view-in-github",
        "colab_type": "text"
      },
      "source": [
        "<a href=\"https://colab.research.google.com/github/choseongmin1997/hello-world/blob/master/%EC%96%B8%EC%BB%B4_10_14.ipynb\" target=\"_parent\"><img src=\"https://colab.research.google.com/assets/colab-badge.svg\" alt=\"Open In Colab\"/></a>"
      ]
    },
    {
      "cell_type": "code",
      "metadata": {
        "id": "3Qk5iF2VgXj4",
        "outputId": "4ef83ca2-6180-452b-8208-2e1d6a74d02e",
        "colab": {
          "base_uri": "https://localhost:8080/",
          "height": 87
        }
      },
      "source": [
        "# 단어 목록\n",
        "words = ['가방', '방', '아버지', '가', '에', '들어가신다']\n",
        "\n",
        "def maxmatch(sentence:str, dictionary:list):\n",
        "    # stop condition\n",
        "    if not sentence:\n",
        "        return []\n",
        "    # recursion\n",
        "    for i in range(len(sentence), 0, -1):\n",
        "        first_word, remainder = sentence[:i], sentence[i:]\n",
        "        if first_word in dictionary:\n",
        "            return [first_word] + maxmatch(remainder, dictionary)\n",
        "    # out-of-vocabulary\n",
        "    first_word = sentence[:1]\n",
        "    remainder = sentence[1:]\n",
        "    return [first_word] + maxmatch(remainder, dictionary)\n",
        "\n",
        "if __name__ == '__main__':\n",
        "    print(maxmatch('아버지가방에들어가신다', words))\n",
        "    print(maxmatch('방에아버지가들어가신다', words))\n",
        "    print(maxmatch('아버지가가방에들어가신다', words))\n",
        "    print(maxmatch('할아버지가큰방에들어가신다', words))"
      ],
      "execution_count": 43,
      "outputs": [
        {
          "output_type": "stream",
          "text": [
            "['아버지', '가방', '에', '들어가신다']\n",
            "['방', '에', '아버지', '가', '들어가신다']\n",
            "['아버지', '가', '가방', '에', '들어가신다']\n",
            "['할', '아버지', '가', '큰', '방', '에', '들어가신다']\n"
          ],
          "name": "stdout"
        }
      ]
    },
    {
      "cell_type": "code",
      "metadata": {
        "id": "lTSDrK8fnxwa",
        "outputId": "3b56bbf6-747b-4603-c19b-19061a03d5ba",
        "colab": {
          "base_uri": "https://localhost:8080/",
          "height": 34
        }
      },
      "source": [
        "print('s\\tu')"
      ],
      "execution_count": 1,
      "outputs": [
        {
          "output_type": "stream",
          "text": [
            "s\tu\n"
          ],
          "name": "stdout"
        }
      ]
    },
    {
      "cell_type": "code",
      "metadata": {
        "id": "ireFlNiJoCbR",
        "outputId": "adb5ba5d-df99-4f34-b8f7-188b56002e17",
        "colab": {
          "base_uri": "https://localhost:8080/",
          "height": 34
        }
      },
      "source": [
        "print(r's\\tu') #raw 스트링 문자열 특수문자를 그대로 표현"
      ],
      "execution_count": 3,
      "outputs": [
        {
          "output_type": "stream",
          "text": [
            "s\\tu\n"
          ],
          "name": "stdout"
        }
      ]
    },
    {
      "cell_type": "code",
      "metadata": {
        "id": "Y0KHvNmpoJdn",
        "outputId": "77503892-6899-4e54-8935-d19bbe6b4c4f",
        "colab": {
          "base_uri": "https://localhost:8080/",
          "height": 34
        }
      },
      "source": [
        "print(fr'\\a{2+3}')"
      ],
      "execution_count": 4,
      "outputs": [
        {
          "output_type": "stream",
          "text": [
            "\\a5\n"
          ],
          "name": "stdout"
        }
      ]
    },
    {
      "cell_type": "code",
      "metadata": {
        "id": "Uy-dRH5ur46T"
      },
      "source": [
        ""
      ],
      "execution_count": null,
      "outputs": []
    },
    {
      "cell_type": "code",
      "metadata": {
        "id": "sFqQPmUSoQY2"
      },
      "source": [
        "#re 모듈 사용하기 \n",
        "import re\n",
        "pattern = re.compile(r'([가-힣]+대학 )?[가-힣]+학?[과부]')"
      ],
      "execution_count": 28,
      "outputs": []
    },
    {
      "cell_type": "code",
      "metadata": {
        "id": "gUHARLCNpffG"
      },
      "source": [
        "string = \"서울대학교 자유전공학부 조성민\""
      ],
      "execution_count": 17,
      "outputs": []
    },
    {
      "cell_type": "code",
      "metadata": {
        "id": "ef_wzk3vple-"
      },
      "source": [
        "#맨 앞부터 매칭하므로 none 값이 나옴\n",
        "#임의의 위치에서 매칭하고 싶다면 search를 사용 \n",
        "\n",
        "pattern.match(string)\n",
        "pattern.search(string)\n"
      ],
      "execution_count": 29,
      "outputs": []
    },
    {
      "cell_type": "code",
      "metadata": {
        "id": "ait6cZaNrYeo",
        "outputId": "c52eb6ac-639d-45fc-f20d-ab1d14d4e33d",
        "colab": {
          "base_uri": "https://localhost:8080/",
          "height": 34
        }
      },
      "source": [
        "pattern = re.compile(r'([가-힣]+(?:일보|신문))')\n",
        "string = '조선일보가 덧붙였다.'\n",
        "print(pattern.search(string).group())"
      ],
      "execution_count": 21,
      "outputs": [
        {
          "output_type": "stream",
          "text": [
            "조선일보\n"
          ],
          "name": "stdout"
        }
      ]
    },
    {
      "cell_type": "code",
      "metadata": {
        "id": "yse4TL69r7Vx",
        "outputId": "33d362cb-8af7-4ac5-dada-96ecee6b0e12",
        "colab": {
          "base_uri": "https://localhost:8080/",
          "height": 34
        }
      },
      "source": [
        "string = '2018년 10월 13일 11시'\n",
        "print(re.sub(r'[0-9]+','#',string))"
      ],
      "execution_count": 36,
      "outputs": [
        {
          "output_type": "stream",
          "text": [
            "#년 #월 #일 #시\n"
          ],
          "name": "stdout"
        }
      ]
    },
    {
      "cell_type": "code",
      "metadata": {
        "id": "YlYGxkS6sQpV",
        "outputId": "c287e3dd-4c51-44e1-ed5a-648c75f73eb7",
        "colab": {
          "base_uri": "https://localhost:8080/",
          "height": 34
        }
      },
      "source": [
        "string = '062-2512-3415'\n",
        "#010이 되면 핸드폰이 되서 1을 제외한 [02-9] 를 사용\n",
        "#첫번째 괄호를 그대로 가져가기 위해서 첫번째괄호 부분을 \\1로 처리 \n",
        "#re,sub의 두번쨰 부분도 raw string으로 만들어주어야 \\1 \\2 가 제대로 작동함. \n",
        "print(re.sub(r'(0[02-9][0-9]*)-([0-9]+-[0-9]+)', r'(\\1)\\2', string))"
      ],
      "execution_count": 45,
      "outputs": [
        {
          "output_type": "stream",
          "text": [
            "(062)2512-3415\n"
          ],
          "name": "stdout"
        }
      ]
    },
    {
      "cell_type": "code",
      "metadata": {
        "id": "um6AmcrsvGvS",
        "outputId": "ce41508a-dee6-4bba-85d0-bbcaf562aae6",
        "colab": {
          "base_uri": "https://localhost:8080/",
          "height": 52
        }
      },
      "source": [
        "string = \"IT SEEMS THAT YOU HATE ME\"\n",
        "pattern = re.compile(r'.* YOU (.*) ME')\n",
        "match = pattern.match(string)\n",
        "response = f'WHAT MAKES YOU THINK I {match.group(1)} YOU'\n",
        "re2 = re.sub(pattern, r'WHAT MAKES YOU THINK I \\1 YOU', string)\n",
        "print(re2)\n",
        "print(response)"
      ],
      "execution_count": 50,
      "outputs": [
        {
          "output_type": "stream",
          "text": [
            "WHAT MAKES YOU THINK I HATE YOU\n",
            "WHAT MAKES YOU THINK I HATE YOU\n"
          ],
          "name": "stdout"
        }
      ]
    }
  ]
}