{
  "nbformat": 4,
  "nbformat_minor": 0,
  "metadata": {
    "colab": {
      "name": "10월7일ipynb",
      "provenance": [],
      "authorship_tag": "ABX9TyM1Nwc2n5fXQw9/n+LLpVuF",
      "include_colab_link": true
    },
    "kernelspec": {
      "name": "python3",
      "display_name": "Python 3"
    }
  },
  "cells": [
    {
      "cell_type": "markdown",
      "metadata": {
        "id": "view-in-github",
        "colab_type": "text"
      },
      "source": [
        "<a href=\"https://colab.research.google.com/github/choseongmin1997/hello-world/blob/master/10%EC%9B%947%EC%9D%BCipynb.ipynb\" target=\"_parent\"><img src=\"https://colab.research.google.com/assets/colab-badge.svg\" alt=\"Open In Colab\"/></a>"
      ]
    },
    {
      "cell_type": "code",
      "metadata": {
        "id": "VM9Q_rLeeKZp"
      },
      "source": [
        ""
      ],
      "execution_count": null,
      "outputs": []
    },
    {
      "cell_type": "markdown",
      "metadata": {
        "id": "nW6CymojelXg"
      },
      "source": [
        "인코딩 = 부호화, 정보를 다른형태로 변환 "
      ]
    },
    {
      "cell_type": "markdown",
      "metadata": {
        "id": "5otrcg-tf38M"
      },
      "source": [
        "1바이트 = 8비트 = 2진수 여덟자리 = 2진수 네자리 두 쌍 = 16진수 두 개 "
      ]
    },
    {
      "cell_type": "markdown",
      "metadata": {
        "id": "qlwuqowaf_qv"
      },
      "source": [
        "3바이트는 동원했을 때 문자를 표현 가능함. "
      ]
    },
    {
      "cell_type": "markdown",
      "metadata": {
        "id": "W-vetcTygwI6"
      },
      "source": [
        "처음엔 영어만 사용하였고 128비트만 가지고도 표현이 가능하였음. \n",
        "\n",
        "ASCII 코드 "
      ]
    },
    {
      "cell_type": "markdown",
      "metadata": {
        "id": "0WlBogCKiFwv"
      },
      "source": [
        "확장 아스키 코드 - 다른 나라의 문자까지 확장하였음 \n",
        "\n",
        "앞자리 네자리 + 뒤자리 네자리 \n",
        "\n",
        "기본 아스키 영역에 있는 숫자나 알파벳은 그대로 위치해 있지만, 표의 오른쪽에는 새로운 문자가 위치해 있다. "
      ]
    },
    {
      "cell_type": "code",
      "metadata": {
        "id": "rwajYGhEizO0",
        "outputId": "e5698dcb-b097-40df-dadf-91cb02af78d6",
        "colab": {
          "base_uri": "https://localhost:8080/",
          "height": 35
        }
      },
      "source": [
        "from unicodedata import lookup, name\n",
        "name(\"가\")"
      ],
      "execution_count": 1,
      "outputs": [
        {
          "output_type": "execute_result",
          "data": {
            "application/vnd.google.colaboratory.intrinsic+json": {
              "type": "string"
            },
            "text/plain": [
              "'HANGUL SYLLABLE GA'"
            ]
          },
          "metadata": {
            "tags": []
          },
          "execution_count": 1
        }
      ]
    },
    {
      "cell_type": "code",
      "metadata": {
        "id": "Ypo367hQi7GE",
        "outputId": "cc0090e1-c960-490a-a57a-11cc6519ac2c",
        "colab": {
          "base_uri": "https://localhost:8080/",
          "height": 35
        }
      },
      "source": [
        "lookup(\"HANGUL SYLLABLE GA\")"
      ],
      "execution_count": 2,
      "outputs": [
        {
          "output_type": "execute_result",
          "data": {
            "application/vnd.google.colaboratory.intrinsic+json": {
              "type": "string"
            },
            "text/plain": [
              "'가'"
            ]
          },
          "metadata": {
            "tags": []
          },
          "execution_count": 2
        }
      ]
    },
    {
      "cell_type": "code",
      "metadata": {
        "id": "1HDpHHTGjkmZ",
        "outputId": "8c77473f-a497-400c-bb53-a4b14b9f256a",
        "colab": {
          "base_uri": "https://localhost:8080/"
        }
      },
      "source": [
        "lookup(\"LATIN CAPITAL LETTER N WITH ACUTE\").encode(\"ISO-8859-2\")\n",
        "#아스키 코드 표는 다르지만 그 표 속에서 똑같은 1101 0001에 대응한다. "
      ],
      "execution_count": 5,
      "outputs": [
        {
          "output_type": "execute_result",
          "data": {
            "text/plain": [
              "b'\\xd1'"
            ]
          },
          "metadata": {
            "tags": []
          },
          "execution_count": 5
        }
      ]
    },
    {
      "cell_type": "code",
      "metadata": {
        "id": "-3ZlUrDgjek7",
        "outputId": "2b6a65fc-4608-4c99-94df-2934dbfae1ea",
        "colab": {
          "base_uri": "https://localhost:8080/"
        }
      },
      "source": [
        "lookup(\"LATIN CAPITAL LETTER N WITH TILDE\").encode(\"ISO-8859-1\")\n",
        "#d1 -> 1101 0001 (2진수) "
      ],
      "execution_count": 4,
      "outputs": [
        {
          "output_type": "execute_result",
          "data": {
            "text/plain": [
              "b'\\xd1'"
            ]
          },
          "metadata": {
            "tags": []
          },
          "execution_count": 4
        }
      ]
    },
    {
      "cell_type": "code",
      "metadata": {
        "id": "dUF5hDr9kyQf",
        "outputId": "8ae2d93a-0508-47b7-9b90-96a8ff245ff0",
        "colab": {
          "base_uri": "https://localhost:8080/",
          "height": 35
        }
      },
      "source": [
        "b'\\xd1'.decode(\"ISO-8859-1\")\n",
        "#디코딩 아스키 코드에 따라 값이 다르다 "
      ],
      "execution_count": 12,
      "outputs": [
        {
          "output_type": "execute_result",
          "data": {
            "application/vnd.google.colaboratory.intrinsic+json": {
              "type": "string"
            },
            "text/plain": [
              "'Ñ'"
            ]
          },
          "metadata": {
            "tags": []
          },
          "execution_count": 12
        }
      ]
    },
    {
      "cell_type": "markdown",
      "metadata": {
        "id": "A40sfmOXk9dz"
      },
      "source": [
        "한글의 경우 글자수 11172로 1바이트로 표현할 수 없다. \n"
      ]
    },
    {
      "cell_type": "code",
      "metadata": {
        "id": "j-7WqSIDmm7P",
        "outputId": "756eedd3-6cc9-484f-dfad-af0de0a6c0a0",
        "colab": {
          "base_uri": "https://localhost:8080/"
        }
      },
      "source": [
        "'읭'.encode(\"EUC_KR\")"
      ],
      "execution_count": 19,
      "outputs": [
        {
          "output_type": "execute_result",
          "data": {
            "text/plain": [
              "b'\\xa4\\xd4\\xa4\\xb7\\xa4\\xd2\\xa4\\xb7'"
            ]
          },
          "metadata": {
            "tags": []
          },
          "execution_count": 19
        }
      ]
    },
    {
      "cell_type": "code",
      "metadata": {
        "id": "iEXJhu5XnUeQ",
        "outputId": "934d5253-4a66-4804-aa71-cb34f6d5973f",
        "colab": {
          "base_uri": "https://localhost:8080/"
        }
      },
      "source": [
        "print('고기'.encode(\"EUC_KR\"))\n",
        "print('고기'.encode(\"UTF-8\").decode(\"EUC-KR\",'ignore'))"
      ],
      "execution_count": 25,
      "outputs": [
        {
          "output_type": "stream",
          "text": [
            "b'\\xb0\\xed\\xb1\\xe2'\n",
            "怨湲\n"
          ],
          "name": "stdout"
        }
      ]
    },
    {
      "cell_type": "code",
      "metadata": {
        "id": "42NdWF9grlsr",
        "outputId": "732f039f-ec56-4447-e9dd-d3cbc76d2275",
        "colab": {
          "base_uri": "https://localhost:8080/",
          "height": 35
        }
      },
      "source": [
        " chr(44032)"
      ],
      "execution_count": 26,
      "outputs": [
        {
          "output_type": "execute_result",
          "data": {
            "application/vnd.google.colaboratory.intrinsic+json": {
              "type": "string"
            },
            "text/plain": [
              "'가'"
            ]
          },
          "metadata": {
            "tags": []
          },
          "execution_count": 26
        }
      ]
    },
    {
      "cell_type": "code",
      "metadata": {
        "id": "0VP-xf_nrpEY",
        "outputId": "42bea2d6-bd43-45cd-bd1c-84d9655cc925",
        "colab": {
          "base_uri": "https://localhost:8080/",
          "height": 35
        }
      },
      "source": [
        "hex(44032)"
      ],
      "execution_count": 27,
      "outputs": [
        {
          "output_type": "execute_result",
          "data": {
            "application/vnd.google.colaboratory.intrinsic+json": {
              "type": "string"
            },
            "text/plain": [
              "'0xac00'"
            ]
          },
          "metadata": {
            "tags": []
          },
          "execution_count": 27
        }
      ]
    },
    {
      "cell_type": "code",
      "metadata": {
        "id": "oaKHhdoottjB",
        "outputId": "a7c19869-d97b-4431-997b-ab923e5289c3",
        "colab": {
          "base_uri": "https://localhost:8080/"
        }
      },
      "source": [
        "print('고기'.encode(\"UTF-8\").decode(\"EUC-KR\",'replace'))"
      ],
      "execution_count": 28,
      "outputs": [
        {
          "output_type": "stream",
          "text": [
            "怨�湲�\n"
          ],
          "name": "stdout"
        }
      ]
    }
  ]
}